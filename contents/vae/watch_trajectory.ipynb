{
 "cells": [
  {
   "cell_type": "code",
   "execution_count": 12,
   "metadata": {},
   "outputs": [],
   "source": [
    "import os\n",
    "from matplotlib import pyplot as plt\n",
    "import torch\n",
    "import numpy as np\n",
    "from methods import load_module\n",
    "from sims import BaseVAESim, get_sim\n",
    "\n",
    "\n",
    "def get_frame_pred(init_frame: torch.Tensor, ts: np.ndarray, \n",
    "                   sim_obj: BaseVAESim, method: str, version: int, \n",
    "                   ncom: int, nstates: int) -> torch.Tensor:\n",
    "    # get the frames predicted by the given method\n",
    "    # init_frames: (2, nchannels, height, width)\n",
    "    # load the module\n",
    "    ckpt_path = f\"lightning_logs/version_{version}/checkpoints/\"\n",
    "    ckpt_path = os.path.join(ckpt_path, os.listdir(ckpt_path)[0])\n",
    "    module = load_module(method, ckpt_path=ckpt_path, data_shape=sim_obj.data_shape, ncom=ncom, nlatent_dim=nstates, dt=1e-2)\n",
    "    module = module.to(torch.device(\"cpu\"))\n",
    "    module.eval()\n",
    "    \n",
    "    init_frame = init_frame.to(module.device)\n",
    "\n",
    "    # get the initial zstates\n",
    "    init_zstate = module.encode(init_frame[None]).squeeze(0)  # (nlatent_dim,)\n",
    "\n",
    "    # simulate the dynamics and then decode the latent var\n",
    "    zstates = torch.as_tensor(module.time_series(init_zstate.detach().cpu().numpy(), ts), dtype=torch.float32)  # (nt, nlatent_dim)\n",
    "    frame_pred = module.decode(zstates)  # (nt, nchannels, height, width)\n",
    "    return frame_pred\n",
    "\n",
    "class Args:\n",
    "    parse = lambda x: x.split(\" \")\n",
    "    to_int = lambda l: [int(item) for item in l] \n",
    "    sim = \"two-body\"\n",
    "    methods = parse(\"comet comet\")\n",
    "    nstates = to_int(parse(\"10 10\"))\n",
    "    ncoms = to_int(parse(\"9 0\"))\n",
    "    versions = to_int(parse(\"0 1\"))\n",
    "    names = parse(\"COMET NODE\")\n",
    "    seed = 2\n",
    "    tmax = 200\n",
    "    figname = \"figure.png\"\n",
    "    \n",
    "\n",
    "\n",
    "\n",
    "args = Args()\n",
    "\n",
    "torch.manual_seed(args.seed)  # the seed must be different from main.py\n",
    "np.random.seed(args.seed)\n",
    "\n",
    "ndset = 1\n",
    "ts = np.linspace(0, args.tmax, 101)\n",
    "sim = args.sim\n",
    "\n",
    "# get the simulation information\n",
    "sim_obj = get_sim(sim)\n",
    "assert len(args.methods) == len(args.versions) == len(args.nstates) == len(args.ncoms) == len(args.names)\n",
    "\n",
    "# simulate the dynamics\n",
    "params_i = [p[0] for p in sim_obj.get_params_list(ndset)]\n",
    "params = params_i[:]\n",
    "frames = torch.as_tensor(sim_obj.simulate(*params, ts), dtype=torch.float32)  # (nt, 3, nchannels, height, width)\n",
    "init_frame = frames[0, :2]  # (2, nchannels, height, width)"
   ]
  },
  {
   "cell_type": "code",
   "execution_count": 13,
   "metadata": {},
   "outputs": [
    {
     "name": "stderr",
     "output_type": "stream",
     "text": [
      "Clipping input data to the valid range for imshow with RGB data ([0..1] for floats or [0..255] for integers).\n",
      "Clipping input data to the valid range for imshow with RGB data ([0..1] for floats or [0..255] for integers).\n"
     ]
    },
    {
     "name": "stdout",
     "output_type": "stream",
     "text": [
      "0 0\n",
      "0 1\n",
      "0 2\n",
      "0 3\n",
      "0 4\n",
      "0 5\n",
      "0 6\n",
      "0 7\n",
      "0 8\n",
      "0 9\n",
      "1 0\n",
      "1 1\n",
      "1 2\n"
     ]
    },
    {
     "name": "stderr",
     "output_type": "stream",
     "text": [
      "Clipping input data to the valid range for imshow with RGB data ([0..1] for floats or [0..255] for integers).\n",
      "Clipping input data to the valid range for imshow with RGB data ([0..1] for floats or [0..255] for integers).\n",
      "Clipping input data to the valid range for imshow with RGB data ([0..1] for floats or [0..255] for integers).\n",
      "Clipping input data to the valid range for imshow with RGB data ([0..1] for floats or [0..255] for integers).\n",
      "Clipping input data to the valid range for imshow with RGB data ([0..1] for floats or [0..255] for integers).\n"
     ]
    },
    {
     "name": "stdout",
     "output_type": "stream",
     "text": [
      "1 3\n",
      "1 4\n",
      "1 5\n",
      "1 6\n",
      "1 7\n"
     ]
    },
    {
     "name": "stderr",
     "output_type": "stream",
     "text": [
      "Clipping input data to the valid range for imshow with RGB data ([0..1] for floats or [0..255] for integers).\n",
      "Clipping input data to the valid range for imshow with RGB data ([0..1] for floats or [0..255] for integers).\n",
      "Clipping input data to the valid range for imshow with RGB data ([0..1] for floats or [0..255] for integers).\n",
      "Clipping input data to the valid range for imshow with RGB data ([0..1] for floats or [0..255] for integers).\n",
      "Clipping input data to the valid range for imshow with RGB data ([0..1] for floats or [0..255] for integers).\n",
      "Clipping input data to the valid range for imshow with RGB data ([0..1] for floats or [0..255] for integers).\n",
      "Clipping input data to the valid range for imshow with RGB data ([0..1] for floats or [0..255] for integers).\n",
      "Clipping input data to the valid range for imshow with RGB data ([0..1] for floats or [0..255] for integers).\n",
      "Clipping input data to the valid range for imshow with RGB data ([0..1] for floats or [0..255] for integers).\n",
      "Clipping input data to the valid range for imshow with RGB data ([0..1] for floats or [0..255] for integers).\n",
      "Clipping input data to the valid range for imshow with RGB data ([0..1] for floats or [0..255] for integers).\n",
      "Clipping input data to the valid range for imshow with RGB data ([0..1] for floats or [0..255] for integers).\n",
      "Clipping input data to the valid range for imshow with RGB data ([0..1] for floats or [0..255] for integers).\n"
     ]
    },
    {
     "name": "stdout",
     "output_type": "stream",
     "text": [
      "1 8\n",
      "1 9\n",
      "2 0\n",
      "2 1\n",
      "2 2\n",
      "2 3\n",
      "2 4\n",
      "2 5\n",
      "2 6\n",
      "2 7\n",
      "2 8\n",
      "2 9\n"
     ]
    }
   ],
   "source": [
    "# get the simulated frames\n",
    "n = len(args.methods)\n",
    "all_frames = {\"Ground truth\": frames[:, 0]}\n",
    "for i in range(n):\n",
    "    ncom = args.ncoms[i]\n",
    "    nstates = args.nstates[i]\n",
    "    method = args.methods[i]\n",
    "    version = args.versions[i]\n",
    "    name = args.names[i]\n",
    "    \n",
    "    # get the frames predicted by the methods\n",
    "    frame_preds = get_frame_pred(init_frame, ts, sim_obj, method, version, ncom, nstates)\n",
    "    all_frames[name] = frame_preds\n",
    "\n",
    "# plot the images\n",
    "nimgs = 10\n",
    "title_fontsize = 25\n",
    "name_fontsize = 25\n",
    "nframes = len(all_frames)\n",
    "plt.figure(figsize=(3 * nimgs, 3 * nframes))\n",
    "for irow, (name, frame_pred) in enumerate(all_frames.items()):\n",
    "    steps = frame_pred.size(0) // nimgs\n",
    "    for ifig in range(nimgs):\n",
    "        print(irow, ifig)\n",
    "        i = ifig * steps\n",
    "        plt.subplot(nframes, nimgs, irow * nimgs + ifig + 1)\n",
    "        toshow = sim_obj.to_imshow(frame_pred[i])\n",
    "        plt.imshow(toshow)\n",
    "        if irow == 0:\n",
    "            plt.title(\"t = %.1f\" % ts[i], fontsize=title_fontsize)\n",
    "        if ifig == 0:\n",
    "            plt.ylabel(name, fontsize=name_fontsize)\n",
    "        plt.xticks([])\n",
    "        plt.yticks([])\n",
    "plt.tight_layout()\n",
    "plt.savefig(args.figname)\n",
    "plt.close()"
   ]
  }
 ],
 "metadata": {
  "kernelspec": {
   "display_name": "cfps",
   "language": "python",
   "name": "python3"
  },
  "language_info": {
   "codemirror_mode": {
    "name": "ipython",
    "version": 3
   },
   "file_extension": ".py",
   "mimetype": "text/x-python",
   "name": "python",
   "nbconvert_exporter": "python",
   "pygments_lexer": "ipython3",
   "version": "3.10.13"
  }
 },
 "nbformat": 4,
 "nbformat_minor": 2
}
